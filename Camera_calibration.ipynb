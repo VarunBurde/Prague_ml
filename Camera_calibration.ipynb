{
 "cells": [
  {
   "cell_type": "markdown",
   "id": "f2489286",
   "metadata": {},
   "source": [
    "# Image formation \n",
    "Camera take the points in the world and project them onto a 2D plane which we see as images."
   ]
  },
  {
   "cell_type": "markdown",
   "id": "cda3f435",
   "metadata": {},
   "source": [
    "# Camera intrinsics"
   ]
  },
  {
   "cell_type": "code",
   "execution_count": null,
   "id": "04ed27c7",
   "metadata": {},
   "outputs": [],
   "source": [
    "# More reading at https://towardsdatascience.com/what-are-intrinsic-and-extrinsic-camera-parameters-in-computer-vision-7071b72fb8ec/\n",
    "\n",
    "import numpy as np\n",
    "import matplotlib.pyplot as plt\n",
    "\n",
    "# Example of camera intrinsic matrix\n",
    "K = np.array([[fx, 0, cx],\n",
    "              [0, fy, cy],\n",
    "              [0, 0, 1]])\n",
    "\n",
    "print(\"Camera intrinsic matrix:\")\n",
    "print(K)"
   ]
  },
  {
   "cell_type": "code",
   "execution_count": null,
   "id": "605e78fe",
   "metadata": {},
   "outputs": [],
   "source": [
    "# Camera intrinsic parameters explanation\n",
    "# fx, fy: focal length in pixels\n",
    "# cx, cy: principal point (optical center) coordinates"
   ]
  },
  {
   "cell_type": "markdown",
   "id": "0df79775",
   "metadata": {},
   "source": [
    "# Lens and distortion\n",
    "\n",
    "Lens distortions are optical aberrations that cause straight lines in the real world to appear curved in images. These distortions arise from the physical properties and design of camera lenses."
   ]
  },
  {
   "cell_type": "markdown",
   "id": "56ea0fc7",
   "metadata": {},
   "source": [
    "More reading at \n",
    "https://www.image-engineering.de/library/image-quality/factors/1062-distortion#:~:text=There%20are%20three%20types%20of,be%20removed%20from%20the%20camera.\n",
    "https://docs.nerf.studio/nerfology/model_components/visualize_cameras.html\n"
   ]
  },
  {
   "cell_type": "markdown",
   "id": "d33d683f",
   "metadata": {},
   "source": [
    "## Types of Lens Distortions\n",
    "\n",
    "### 1. Barrel Distortion\n",
    "\n",
    "**Causes:**\n",
    "- Occurs when magnification decreases as you move away from the optical center\n",
    "- Common in wide-angle lenses\n",
    "- Lines appear to bow outward like a barrel\n",
    "\n",
    "**Correction Method:**\n",
    "- Can be modeled using radial distortion coefficients (k1, k2, k3)\n",
    "- Corrected using the equation: x_corrected = x(1 + k1*r² + k2*r⁴ + k3*r⁶)\n",
    "\n",
    "**Image Placeholder:**\n",
    "![Barrel Distortion - Image showing straight lines bowing outward from center]\n",
    "\n",
    "**Calibration Views Needed:**\n",
    "- Straight-on (front-facing) views with checkerboard pattern\n",
    "- Close-up views particularly effective"
   ]
  },
  {
   "cell_type": "markdown",
   "id": "a147d58b",
   "metadata": {},
   "source": [
    "### 2. Pincushion Distortion\n",
    "\n",
    "**Causes:**\n",
    "- Occurs when magnification increases as you move away from the optical center\n",
    "- Common in telephoto lenses\n",
    "- Lines curve inward like a pincushion\n",
    "\n",
    "**Correction Method:**\n",
    "- Uses the same radial distortion model as barrel distortion but with opposite sign coefficients\n",
    "- Software correction algorithms in post-processing\n",
    "\n",
    "**Image Placeholder:**\n",
    "![Pincushion Distortion - Image showing straight lines curving inward toward center]\n",
    "\n",
    "**Calibration Views Needed:**\n",
    "- Distant views of calibration pattern\n",
    "- Edge-of-frame views to capture maximum distortion"
   ]
  },
  {
   "cell_type": "markdown",
   "id": "689a900a",
   "metadata": {},
   "source": [
    "### 3. Mustache Distortion\n",
    "\n",
    "**Causes:**\n",
    "- Complex aberrations in lens design\n",
    "- Combination of barrel and pincushion distortions\n",
    "- Common in zoom lenses\n",
    "\n",
    "**Correction Method:**\n",
    "- Requires higher-order polynomial models\n",
    "- Often needs both radial and tangential distortion coefficients\n",
    "\n",
    "**Image Placeholder:**\n",
    "![Mustache Distortion - Image showing complex wave-like distortion pattern]\n",
    "\n",
    "**Calibration Views Needed:**\n",
    "- Angled views of calibration pattern\n",
    "- Multiple perspectives to capture transition between distortion types"
   ]
  },
  {
   "cell_type": "markdown",
   "id": "9ea67008",
   "metadata": {},
   "source": [
    "### 4. Tangential (Decentering) Distortion\n",
    "\n",
    "**Causes:**\n",
    "- Lens not perfectly aligned with camera sensor\n",
    "- Optical elements inside lens are misaligned\n",
    "- Creates asymmetrical distortion\n",
    "\n",
    "**Correction Method:**\n",
    "- Modeled using tangential distortion coefficients (p1, p2)\n",
    "- Correction equations:\n",
    "  - x_corrected = x + [2p1xy + p2(r² + 2x²)]\n",
    "  - y_corrected = y + [p1(r² + 2y²) + 2p2xy]\n",
    "\n",
    "**Image Placeholder:**\n",
    "![Tangential Distortion - Image showing asymmetrical distortion pattern]\n",
    "\n",
    "**Calibration Views Needed:**\n",
    "- Tilted and rotated views of calibration pattern\n",
    "- Multiple orientations to detect asymmetries"
   ]
  },
  {
   "cell_type": "markdown",
   "id": "e8907fd1",
   "metadata": {},
   "source": [
    "### 5. Chromatic Aberration\n",
    "\n",
    "**Causes:**\n",
    "- Different wavelengths of light refract differently through lens\n",
    "- Creates color fringing around edges\n",
    "- More pronounced in cheaper or high-magnification lenses\n",
    "\n",
    "**Correction Method:**\n",
    "- Color channel alignment in post-processing\n",
    "- Specialized lens coatings during manufacturing\n",
    "\n",
    "**Image Placeholder:**\n",
    "![Chromatic Aberration - Image showing color fringing at high-contrast edges]\n",
    "\n",
    "**Calibration Views Needed:**\n",
    "- High contrast patterns\n",
    "- Edge detection in different color channels"
   ]
  },
  {
   "cell_type": "code",
   "execution_count": null,
   "id": "7d41bc45",
   "metadata": {},
   "outputs": [],
   "source": [
    "# Example code for implementing distortion correction\n",
    "import cv2\n",
    "import numpy as np\n",
    "import matplotlib.pyplot as plt\n",
    "\n",
    "def correct_distortion(img, camera_matrix, dist_coeffs):\n",
    "    h, w = img.shape[:2]\n",
    "    newcamera_matrix, roi = cv2.getOptimalNewCameraMatrix(\n",
    "        camera_matrix, dist_coeffs, (w, h), 1, (w, h))\n",
    "    \n",
    "    # Undistort the image\n",
    "    dst = cv2.undistort(img, camera_matrix, dist_coeffs, None, newcamera_matrix)\n",
    "    \n",
    "    # Crop the image (optional)\n",
    "    x, y, w, h = roi\n",
    "    dst = dst[y:y+h, x:x+w]\n",
    "    \n",
    "    return dst\n",
    "\n",
    "# Example usage (commented out until you have actual data)\n",
    "# img = cv2.imread('distorted_image.jpg')\n",
    "# camera_matrix = np.array([[fx, 0, cx], [0, fy, cy], [0, 0, 1]])\n",
    "# dist_coeffs = np.array([k1, k2, p1, p2, k3])\n",
    "# corrected_img = correct_distortion(img, camera_matrix, dist_coeffs)\n",
    "# plt.imshow(cv2.cvtColor(corrected_img, cv2.COLOR_BGR2RGB))\n",
    "# plt.title('Corrected Image')\n",
    "# plt.show()"
   ]
  },
  {
   "cell_type": "code",
   "execution_count": null,
   "id": "55fdd04a",
   "metadata": {},
   "outputs": [],
   "source": [
    "# Camera Calibration Process\n",
    "import cv2\n",
    "import numpy as np\n",
    "import glob\n",
    "\n",
    "# This is a placeholder for a complete calibration workflow\n",
    "def calibrate_camera(images_folder, pattern_size=(9,6)):\n",
    "    \"\"\"\n",
    "    Calibrates camera using checkerboard images\n",
    "    \n",
    "    Args:\n",
    "        images_folder: folder containing calibration images\n",
    "        pattern_size: size of the checkerboard pattern (inner corners)\n",
    "        \n",
    "    Returns:\n",
    "        camera_matrix: intrinsic camera matrix\n",
    "        dist_coeffs: distortion coefficients (k1,k2,p1,p2,k3)\n",
    "    \"\"\"\n",
    "    # Placeholder for calibration code\n",
    "    # To be implemented with actual images\n",
    "    pass"
   ]
  },
  {
   "cell_type": "markdown",
   "id": "6f686985",
   "metadata": {},
   "source": [
    "## Calibration Views Required for Comprehensive Distortion Correction\n",
    "\n",
    "For accurate calibration that addresses all types of distortion, the following views are recommended:\n",
    "\n",
    "1. **Straight-on (front-facing) views**: Helps correct radial distortions (barrel and pincushion)\n",
    "2. **Angled views**: Critical for identifying mustache distortion patterns\n",
    "3. **Edge-of-frame views**: Captures maximum distortion at image boundaries\n",
    "4. **Different distances**: Close-up for barrel distortion, distant for pincushion\n",
    "5. **Tilts and rotations**: Addresses tangential distortion from misalignments\n",
    "\n",
    "**Image Placeholder:**\n",
    "![Calibration Views - Series of images showing different orientations of calibration pattern]"
   ]
  },
  {
   "cell_type": "markdown",
   "id": "cbac93f4",
   "metadata": {},
   "source": [
    "# Camera extrinsics"
   ]
  },
  {
   "cell_type": "markdown",
   "id": "3fc15a90",
   "metadata": {},
   "source": [
    "It's the transformation from object world to the camera. Camera extrinsics consist of rotation (R) and translation (t) matrices that define the camera's position and orientation in 3D world coordinates."
   ]
  },
  {
   "cell_type": "code",
   "execution_count": null,
   "id": "1551b789",
   "metadata": {},
   "outputs": [],
   "source": [
    "# Example of camera extrinsics\n",
    "import numpy as np\n",
    "\n",
    "# Rotation matrix (3x3)\n",
    "R = np.eye(3)  # Identity matrix for a camera looking along the z-axis\n",
    "\n",
    "# Translation vector (3x1)\n",
    "t = np.array([[0], [0], [0]])  # Camera at origin\n",
    "\n",
    "# Extrinsic matrix [R|t] (3x4)\n",
    "extrinsic_matrix = np.hstack((R, t))\n",
    "\n",
    "print(\"Camera extrinsic matrix:\")\n",
    "print(extrinsic_matrix)\n",
    "\n",
    "# For a full projection matrix P = K[R|t]\n",
    "# Where K is the intrinsic matrix"
   ]
  }
 ],
 "metadata": {
  "language_info": {
   "name": "python"
  }
 },
 "nbformat": 4,
 "nbformat_minor": 5
}
